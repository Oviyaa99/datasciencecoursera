{
  "nbformat": 4,
  "nbformat_minor": 0,
  "metadata": {
    "colab": {
      "provenance": [],
      "authorship_tag": "ABX9TyOHgxAzeuQgKKglZH+QCOia",
      "include_colab_link": true
    },
    "kernelspec": {
      "name": "python3",
      "display_name": "Python 3"
    },
    "language_info": {
      "name": "python"
    }
  },
  "cells": [
    {
      "cell_type": "markdown",
      "metadata": {
        "id": "view-in-github",
        "colab_type": "text"
      },
      "source": [
        "<a href=\"https://colab.research.google.com/github/Oviyaa99/datasciencecoursera/blob/master/GWP2.ipynb\" target=\"_parent\"><img src=\"https://colab.research.google.com/assets/colab-badge.svg\" alt=\"Open In Colab\"/></a>"
      ]
    },
    {
      "cell_type": "markdown",
      "source": [
        "# Group Work Project # 2"
      ],
      "metadata": {
        "id": "7kwqrVY2ctOG"
      }
    },
    {
      "cell_type": "markdown",
      "source": [
        "# Step 1"
      ],
      "metadata": {
        "id": "HQ4o07NHc-s7"
      }
    },
    {
      "cell_type": "markdown",
      "source": [
        "## Challenges:\n",
        "● Category 6: Support Vector Machines\n",
        "\n",
        "● Category 7: Neural Networks"
      ],
      "metadata": {
        "id": "YZkQAh7tc0F7"
      }
    },
    {
      "cell_type": "markdown",
      "source": [
        "# Step 2"
      ],
      "metadata": {
        "id": "UyDTTkAydEVU"
      }
    },
    {
      "cell_type": "markdown",
      "source": [
        "##**Neural Networks:**\n",
        "\n",
        "###**Basics:**\n",
        "\n",
        "A neural network is a machine learning algorithm inspired by the human brain, consisting of interconnected nodes that perform mathematical operations. When trained, these networks adjust the weights of their connections to perform specific tasks, such as recognizing objects in images, translating languages, or predicting future events. They replicate the human brain, analyzing images based on past experiences and making decisions based on these findings.\n",
        "\n",
        "Input -> analyze -> decision\n",
        "\n",
        "####**Basic components of a neural network:**\n",
        "\n",
        "**Neurons:** The basic unit of a neural network. Neurons take inputs, perform a simple mathematical operation, and produce an output.\n",
        "**Layers:** Neurons are organized into layers. The first layer is the input layer, which receives the input data. The last layer is the output layer, which produces the output of the network. There can be one or more hidden layers between the input and output layers.\n",
        "**Connections:** Neurons are connected to each other with weighted connections. The weights of the connections determine how much influence one neuron has on another.\n",
        "\n",
        "###**Keywords:**\n",
        "\n",
        "Neuron, Perceptron, Artificial neural network (ANN), Multilayer perceptron, Activation function, Weight, Bias, Loss function, Convolutional neural network (CNN), Recurrent neural network (RNN)\n",
        "\n"
      ],
      "metadata": {
        "id": "vNYgHXlKqejy"
      }
    },
    {
      "cell_type": "markdown",
      "source": [
        "# Step 3"
      ],
      "metadata": {
        "id": "mV0DWGOfrV_7"
      }
    },
    {
      "cell_type": "markdown",
      "source": [
        "###**Advantages:**\n",
        "\n",
        "\n",
        "\n",
        "*   **Learn complex relationships:** Neural networks learns the complex non-linear relationships from input and output data, which makes it well-suited for various problems, such as image recognition, natural language processing, and fraud detection.\n",
        "*   **Generalizing ability:** Neural networks generalizes the data that they have never seen before from  training data to new data. To use Neural network in real-world Scenarios, where the data we collect will be noisy and incomplete this data generalisation ability is important.\n",
        "*   **Robustness to noise:** Neural networks are relatively robust to noise in the input data. Because to extract features from such noisy data.\n",
        "\n",
        "*   **Parallel processing:** Neural networks supports parallel processing to make the execution quicker, which is important performance metric for real-time applications."
      ],
      "metadata": {
        "id": "yAbtIZYfrXyw"
      }
    },
    {
      "cell_type": "markdown",
      "source": [
        "###**Disadvantages:**\n",
        "\n",
        "\n",
        "\n",
        "*   Neural networks are like black boxes which makes it diffculit to understand how they arrive at their predictions. Makes it difficult todebug and trust the results.\n",
        "\n",
        "*   Neural networks require a lot of data to train we can call it data-hungry. To learn any complex patterns they require large datasets, if the data is limited its difficult to train the neurons.\n",
        "\n",
        "*   Neural networks require a lot of computing power and time which makes it computationally expensive to train and deploy.\n",
        "\n",
        "*   Neural networks are vulnerable to have adversarial attacks, carefully crafted inputs designed to fool neural networks into making incorrect predictions."
      ],
      "metadata": {
        "id": "JCIjIQJ8vi2F"
      }
    },
    {
      "cell_type": "markdown",
      "source": [
        "###**Equations**:\n",
        "\n",
        "The Perceptron is one of the simplest ANN architectures, invented in 1957 by Frank Rosenblatt. It is based on a slightly different artificial neuron called a **threshold logic unit (TLU)**. The inputs and the output are numbers (instead of binary on/off values), and each input connection is associated with a weight. The TLU computes a weighted sum of its inputs $$(z = w_1 x_1 + w_2 x_2 + ⋯ + w_n x_n = x^⊺ w)$$, then applies a step function to that sum and outputs the result: $$h_w(x) = step(z)$$, where $z = x^⊺ w$.\n",
        "\n",
        "\n",
        "The most common step function used in Perceptrons is the Heaviside step function. Sometimes the sign function is used instead.\n",
        "\n",
        "$$heaviside (z) = \\begin{equation}\n",
        "\\left\\{\n",
        "  \\begin{aligned}\n",
        "    &0&  if\\ \\  z < 0\\\\\n",
        "    &1&  if\\ \\  z \\ge 0\\\\\n",
        "  \\end{aligned}\n",
        "  \\right.\n",
        "\\end{equation}\n",
        "$$\n",
        "\n",
        "$$sgn (z) = \\begin{equation}\n",
        "\\left\\{\n",
        "  \\begin{aligned}\n",
        "    &-1&  if\\ \\  z < 0\\\\\n",
        "    &0&  if\\ \\  z = 0\\\\\n",
        "    &1&  if\\ \\  z > 0\\\\\n",
        "  \\end{aligned}\n",
        "  \\right.\n",
        "\\end{equation}\n",
        "$$\n",
        "\n",
        "A single TLU can be used for simple linear binary classification. It computes a linear combination of the inputs, and if the result exceeds a threshold, it outputs the positive class. Otherwise, it outputs the negative class."
      ],
      "metadata": {
        "id": "VlhZc-vpzCrB"
      }
    },
    {
      "cell_type": "markdown",
      "source": [
        "###**Features:**\n",
        "\n",
        "- Neural networks are versatile and can handle various data types, including numerical, categorical, and textual data.\n",
        "- They can work well with missing values by using techniques like imputation.\n",
        "Neural networks can capture complex patterns and relationships in data.\n",
        "- They are capable of both regression and classification tasks.\n",
        "- Deep neural networks can automatically extract features from raw data, reducing the need for manual feature engineering."
      ],
      "metadata": {
        "id": "otM17DvZTc9F"
      }
    },
    {
      "cell_type": "markdown",
      "source": [
        "###**Guide:**\n",
        "\n",
        "**Inputs:**\n",
        "\n",
        "- Financial data, such as stock prices, interest rates, and economic indicators\n",
        "- Other relevant data, such as news articles, social media posts, and analyst reports\n",
        "\n",
        "**Outputs:**\n",
        "\n",
        "- Predictions about future financial market movements\n",
        "- Recommendations for financial investments"
      ],
      "metadata": {
        "id": "JghXOa4UTozh"
      }
    },
    {
      "cell_type": "markdown",
      "source": [
        "###**Hyperparameters:**\n",
        "\n",
        "- Learning Rate: A crucial hyperparameter that controls the step size during training. Common values range from 0.001 to 0.1.\n",
        "- Number of Hidden Layers and Neurons: The architecture of the neural network, including the number of layers and neurons in each layer.\n",
        "- Batch Size: Determines how many data samples are used in each training iteration.\n",
        "- Activation Functions: Choices like ReLU, sigmoid, or tanh for each layer.\n",
        "- Regularization Parameters: L1 or L2 regularization strength, dropout rate, etc.\n",
        "- Optimizer: Choice of optimization algorithm, such as Adam, SGD, or RMSprop.\n",
        "\n",
        "\n",
        "\n",
        "\n",
        "Hyperparameter             | Typical Value\n",
        "---------------------------|------------------\n",
        "# input neurons            | One per input feature (e.g., 28 x 28 = 784 for MNIST)\n",
        "# hidden layers            | Depends on the problem. Typically 1 to 5.\n",
        "# neurons per hidden layer | Depends on the problem. Typically 10 to 100.\n",
        "# output neurons           | 1 per prediction dimension\n",
        "Hidden activation          | ReLU sigmoid, or tanh for each layer.\n",
        "Output activation          | None or ReLU/Softplus (if positive outputs) or Logistic/Tanh (if bounded outputs)\n",
        "Loss function              | MSE or MAE/Huber (if outliers)\n"
      ],
      "metadata": {
        "id": "IBgIKny8SuDR"
      }
    },
    {
      "cell_type": "markdown",
      "source": [
        "###**Computation**"
      ],
      "metadata": {
        "id": "FRKi8ke8vg_r"
      }
    },
    {
      "cell_type": "code",
      "source": [
        "import yfinance as yf\n",
        "\n",
        "# Load Apple stock data for the last 2 years\n",
        "apple = yf.download('AAPL', period='2y')\n",
        "apple.head()"
      ],
      "metadata": {
        "colab": {
          "base_uri": "https://localhost:8080/",
          "height": 255
        },
        "id": "0HizJRvhWpf5",
        "outputId": "5d2bec28-8c60-4d82-bee8-2e033949d188"
      },
      "execution_count": null,
      "outputs": [
        {
          "output_type": "stream",
          "name": "stdout",
          "text": [
            "\r[*********************100%%**********************]  1 of 1 completed\n"
          ]
        },
        {
          "output_type": "execute_result",
          "data": {
            "text/plain": [
              "                  Open        High         Low       Close   Adj Close  \\\n",
              "Date                                                                     \n",
              "2021-09-29  142.470001  144.449997  142.029999  142.830002  141.196487   \n",
              "2021-09-30  143.660004  144.380005  141.279999  141.500000  139.881683   \n",
              "2021-10-01  141.899994  142.919998  139.110001  142.649994  141.018524   \n",
              "2021-10-04  141.759995  142.210007  138.270004  139.139999  137.548676   \n",
              "2021-10-05  139.490005  142.240005  139.360001  141.110001  139.496155   \n",
              "\n",
              "              Volume  \n",
              "Date                  \n",
              "2021-09-29  74602000  \n",
              "2021-09-30  89056700  \n",
              "2021-10-01  94639600  \n",
              "2021-10-04  98322000  \n",
              "2021-10-05  80861100  "
            ],
            "text/html": [
              "\n",
              "  <div id=\"df-0f489976-d50d-405f-a878-746627e43568\" class=\"colab-df-container\">\n",
              "    <div>\n",
              "<style scoped>\n",
              "    .dataframe tbody tr th:only-of-type {\n",
              "        vertical-align: middle;\n",
              "    }\n",
              "\n",
              "    .dataframe tbody tr th {\n",
              "        vertical-align: top;\n",
              "    }\n",
              "\n",
              "    .dataframe thead th {\n",
              "        text-align: right;\n",
              "    }\n",
              "</style>\n",
              "<table border=\"1\" class=\"dataframe\">\n",
              "  <thead>\n",
              "    <tr style=\"text-align: right;\">\n",
              "      <th></th>\n",
              "      <th>Open</th>\n",
              "      <th>High</th>\n",
              "      <th>Low</th>\n",
              "      <th>Close</th>\n",
              "      <th>Adj Close</th>\n",
              "      <th>Volume</th>\n",
              "    </tr>\n",
              "    <tr>\n",
              "      <th>Date</th>\n",
              "      <th></th>\n",
              "      <th></th>\n",
              "      <th></th>\n",
              "      <th></th>\n",
              "      <th></th>\n",
              "      <th></th>\n",
              "    </tr>\n",
              "  </thead>\n",
              "  <tbody>\n",
              "    <tr>\n",
              "      <th>2021-09-29</th>\n",
              "      <td>142.470001</td>\n",
              "      <td>144.449997</td>\n",
              "      <td>142.029999</td>\n",
              "      <td>142.830002</td>\n",
              "      <td>141.196487</td>\n",
              "      <td>74602000</td>\n",
              "    </tr>\n",
              "    <tr>\n",
              "      <th>2021-09-30</th>\n",
              "      <td>143.660004</td>\n",
              "      <td>144.380005</td>\n",
              "      <td>141.279999</td>\n",
              "      <td>141.500000</td>\n",
              "      <td>139.881683</td>\n",
              "      <td>89056700</td>\n",
              "    </tr>\n",
              "    <tr>\n",
              "      <th>2021-10-01</th>\n",
              "      <td>141.899994</td>\n",
              "      <td>142.919998</td>\n",
              "      <td>139.110001</td>\n",
              "      <td>142.649994</td>\n",
              "      <td>141.018524</td>\n",
              "      <td>94639600</td>\n",
              "    </tr>\n",
              "    <tr>\n",
              "      <th>2021-10-04</th>\n",
              "      <td>141.759995</td>\n",
              "      <td>142.210007</td>\n",
              "      <td>138.270004</td>\n",
              "      <td>139.139999</td>\n",
              "      <td>137.548676</td>\n",
              "      <td>98322000</td>\n",
              "    </tr>\n",
              "    <tr>\n",
              "      <th>2021-10-05</th>\n",
              "      <td>139.490005</td>\n",
              "      <td>142.240005</td>\n",
              "      <td>139.360001</td>\n",
              "      <td>141.110001</td>\n",
              "      <td>139.496155</td>\n",
              "      <td>80861100</td>\n",
              "    </tr>\n",
              "  </tbody>\n",
              "</table>\n",
              "</div>\n",
              "    <div class=\"colab-df-buttons\">\n",
              "\n",
              "  <div class=\"colab-df-container\">\n",
              "    <button class=\"colab-df-convert\" onclick=\"convertToInteractive('df-0f489976-d50d-405f-a878-746627e43568')\"\n",
              "            title=\"Convert this dataframe to an interactive table.\"\n",
              "            style=\"display:none;\">\n",
              "\n",
              "  <svg xmlns=\"http://www.w3.org/2000/svg\" height=\"24px\" viewBox=\"0 -960 960 960\">\n",
              "    <path d=\"M120-120v-720h720v720H120Zm60-500h600v-160H180v160Zm220 220h160v-160H400v160Zm0 220h160v-160H400v160ZM180-400h160v-160H180v160Zm440 0h160v-160H620v160ZM180-180h160v-160H180v160Zm440 0h160v-160H620v160Z\"/>\n",
              "  </svg>\n",
              "    </button>\n",
              "\n",
              "  <style>\n",
              "    .colab-df-container {\n",
              "      display:flex;\n",
              "      gap: 12px;\n",
              "    }\n",
              "\n",
              "    .colab-df-convert {\n",
              "      background-color: #E8F0FE;\n",
              "      border: none;\n",
              "      border-radius: 50%;\n",
              "      cursor: pointer;\n",
              "      display: none;\n",
              "      fill: #1967D2;\n",
              "      height: 32px;\n",
              "      padding: 0 0 0 0;\n",
              "      width: 32px;\n",
              "    }\n",
              "\n",
              "    .colab-df-convert:hover {\n",
              "      background-color: #E2EBFA;\n",
              "      box-shadow: 0px 1px 2px rgba(60, 64, 67, 0.3), 0px 1px 3px 1px rgba(60, 64, 67, 0.15);\n",
              "      fill: #174EA6;\n",
              "    }\n",
              "\n",
              "    .colab-df-buttons div {\n",
              "      margin-bottom: 4px;\n",
              "    }\n",
              "\n",
              "    [theme=dark] .colab-df-convert {\n",
              "      background-color: #3B4455;\n",
              "      fill: #D2E3FC;\n",
              "    }\n",
              "\n",
              "    [theme=dark] .colab-df-convert:hover {\n",
              "      background-color: #434B5C;\n",
              "      box-shadow: 0px 1px 3px 1px rgba(0, 0, 0, 0.15);\n",
              "      filter: drop-shadow(0px 1px 2px rgba(0, 0, 0, 0.3));\n",
              "      fill: #FFFFFF;\n",
              "    }\n",
              "  </style>\n",
              "\n",
              "    <script>\n",
              "      const buttonEl =\n",
              "        document.querySelector('#df-0f489976-d50d-405f-a878-746627e43568 button.colab-df-convert');\n",
              "      buttonEl.style.display =\n",
              "        google.colab.kernel.accessAllowed ? 'block' : 'none';\n",
              "\n",
              "      async function convertToInteractive(key) {\n",
              "        const element = document.querySelector('#df-0f489976-d50d-405f-a878-746627e43568');\n",
              "        const dataTable =\n",
              "          await google.colab.kernel.invokeFunction('convertToInteractive',\n",
              "                                                    [key], {});\n",
              "        if (!dataTable) return;\n",
              "\n",
              "        const docLinkHtml = 'Like what you see? Visit the ' +\n",
              "          '<a target=\"_blank\" href=https://colab.research.google.com/notebooks/data_table.ipynb>data table notebook</a>'\n",
              "          + ' to learn more about interactive tables.';\n",
              "        element.innerHTML = '';\n",
              "        dataTable['output_type'] = 'display_data';\n",
              "        await google.colab.output.renderOutput(dataTable, element);\n",
              "        const docLink = document.createElement('div');\n",
              "        docLink.innerHTML = docLinkHtml;\n",
              "        element.appendChild(docLink);\n",
              "      }\n",
              "    </script>\n",
              "  </div>\n",
              "\n",
              "\n",
              "<div id=\"df-b1cda13f-94f9-4c17-b685-7dc5c19c6261\">\n",
              "  <button class=\"colab-df-quickchart\" onclick=\"quickchart('df-b1cda13f-94f9-4c17-b685-7dc5c19c6261')\"\n",
              "            title=\"Suggest charts.\"\n",
              "            style=\"display:none;\">\n",
              "\n",
              "<svg xmlns=\"http://www.w3.org/2000/svg\" height=\"24px\"viewBox=\"0 0 24 24\"\n",
              "     width=\"24px\">\n",
              "    <g>\n",
              "        <path d=\"M19 3H5c-1.1 0-2 .9-2 2v14c0 1.1.9 2 2 2h14c1.1 0 2-.9 2-2V5c0-1.1-.9-2-2-2zM9 17H7v-7h2v7zm4 0h-2V7h2v10zm4 0h-2v-4h2v4z\"/>\n",
              "    </g>\n",
              "</svg>\n",
              "  </button>\n",
              "\n",
              "<style>\n",
              "  .colab-df-quickchart {\n",
              "      --bg-color: #E8F0FE;\n",
              "      --fill-color: #1967D2;\n",
              "      --hover-bg-color: #E2EBFA;\n",
              "      --hover-fill-color: #174EA6;\n",
              "      --disabled-fill-color: #AAA;\n",
              "      --disabled-bg-color: #DDD;\n",
              "  }\n",
              "\n",
              "  [theme=dark] .colab-df-quickchart {\n",
              "      --bg-color: #3B4455;\n",
              "      --fill-color: #D2E3FC;\n",
              "      --hover-bg-color: #434B5C;\n",
              "      --hover-fill-color: #FFFFFF;\n",
              "      --disabled-bg-color: #3B4455;\n",
              "      --disabled-fill-color: #666;\n",
              "  }\n",
              "\n",
              "  .colab-df-quickchart {\n",
              "    background-color: var(--bg-color);\n",
              "    border: none;\n",
              "    border-radius: 50%;\n",
              "    cursor: pointer;\n",
              "    display: none;\n",
              "    fill: var(--fill-color);\n",
              "    height: 32px;\n",
              "    padding: 0;\n",
              "    width: 32px;\n",
              "  }\n",
              "\n",
              "  .colab-df-quickchart:hover {\n",
              "    background-color: var(--hover-bg-color);\n",
              "    box-shadow: 0 1px 2px rgba(60, 64, 67, 0.3), 0 1px 3px 1px rgba(60, 64, 67, 0.15);\n",
              "    fill: var(--button-hover-fill-color);\n",
              "  }\n",
              "\n",
              "  .colab-df-quickchart-complete:disabled,\n",
              "  .colab-df-quickchart-complete:disabled:hover {\n",
              "    background-color: var(--disabled-bg-color);\n",
              "    fill: var(--disabled-fill-color);\n",
              "    box-shadow: none;\n",
              "  }\n",
              "\n",
              "  .colab-df-spinner {\n",
              "    border: 2px solid var(--fill-color);\n",
              "    border-color: transparent;\n",
              "    border-bottom-color: var(--fill-color);\n",
              "    animation:\n",
              "      spin 1s steps(1) infinite;\n",
              "  }\n",
              "\n",
              "  @keyframes spin {\n",
              "    0% {\n",
              "      border-color: transparent;\n",
              "      border-bottom-color: var(--fill-color);\n",
              "      border-left-color: var(--fill-color);\n",
              "    }\n",
              "    20% {\n",
              "      border-color: transparent;\n",
              "      border-left-color: var(--fill-color);\n",
              "      border-top-color: var(--fill-color);\n",
              "    }\n",
              "    30% {\n",
              "      border-color: transparent;\n",
              "      border-left-color: var(--fill-color);\n",
              "      border-top-color: var(--fill-color);\n",
              "      border-right-color: var(--fill-color);\n",
              "    }\n",
              "    40% {\n",
              "      border-color: transparent;\n",
              "      border-right-color: var(--fill-color);\n",
              "      border-top-color: var(--fill-color);\n",
              "    }\n",
              "    60% {\n",
              "      border-color: transparent;\n",
              "      border-right-color: var(--fill-color);\n",
              "    }\n",
              "    80% {\n",
              "      border-color: transparent;\n",
              "      border-right-color: var(--fill-color);\n",
              "      border-bottom-color: var(--fill-color);\n",
              "    }\n",
              "    90% {\n",
              "      border-color: transparent;\n",
              "      border-bottom-color: var(--fill-color);\n",
              "    }\n",
              "  }\n",
              "</style>\n",
              "\n",
              "  <script>\n",
              "    async function quickchart(key) {\n",
              "      const quickchartButtonEl =\n",
              "        document.querySelector('#' + key + ' button');\n",
              "      quickchartButtonEl.disabled = true;  // To prevent multiple clicks.\n",
              "      quickchartButtonEl.classList.add('colab-df-spinner');\n",
              "      try {\n",
              "        const charts = await google.colab.kernel.invokeFunction(\n",
              "            'suggestCharts', [key], {});\n",
              "      } catch (error) {\n",
              "        console.error('Error during call to suggestCharts:', error);\n",
              "      }\n",
              "      quickchartButtonEl.classList.remove('colab-df-spinner');\n",
              "      quickchartButtonEl.classList.add('colab-df-quickchart-complete');\n",
              "    }\n",
              "    (() => {\n",
              "      let quickchartButtonEl =\n",
              "        document.querySelector('#df-b1cda13f-94f9-4c17-b685-7dc5c19c6261 button');\n",
              "      quickchartButtonEl.style.display =\n",
              "        google.colab.kernel.accessAllowed ? 'block' : 'none';\n",
              "    })();\n",
              "  </script>\n",
              "</div>\n",
              "    </div>\n",
              "  </div>\n"
            ]
          },
          "metadata": {},
          "execution_count": 10
        }
      ]
    },
    {
      "cell_type": "markdown",
      "source": [
        "Preprocess the data based on the 'Adj Close' price and scale it."
      ],
      "metadata": {
        "id": "Xs2gZjAKXebu"
      }
    },
    {
      "cell_type": "code",
      "source": [
        "from sklearn.preprocessing import MinMaxScaler\n",
        "import numpy as np\n",
        "\n",
        "# Extract the 'Adj Close' prices\n",
        "adj_close = apple['Adj Close'].values.reshape(-1, 1)\n",
        "\n",
        "# Scale the data to the range [0, 1]\n",
        "scaler = MinMaxScaler()\n",
        "scaled_data = scaler.fit_transform(adj_close)\n",
        "\n",
        "# Function to prepare data for training\n",
        "def prepare_data(data, window_size):\n",
        "    X, y = [], []\n",
        "    for i in range(len(data) - window_size):\n",
        "        X.append(data[i:i+window_size])\n",
        "        y.append(data[i+window_size])\n",
        "    return np.array(X), np.array(y)\n",
        "\n",
        "# window size for creating sequences of data\n",
        "window_size = 30\n",
        "\n",
        "# Prepare the data\n",
        "X, y = prepare_data(scaled_data, window_size)\n",
        "\n",
        "# Split the data into training and testing sets (80/20 split)\n",
        "split_ratio = 0.8\n",
        "split_index = int(len(X) * split_ratio)\n",
        "\n",
        "X_train, X_test = X[:split_index], X[split_index:]\n",
        "y_train, y_test = y[:split_index], y[split_index:]"
      ],
      "metadata": {
        "id": "FSxKsi9qWpaD"
      },
      "execution_count": null,
      "outputs": []
    },
    {
      "cell_type": "markdown",
      "source": [
        "TensorFlow Keras model with one layer."
      ],
      "metadata": {
        "id": "H6dytu7fXuSD"
      }
    },
    {
      "cell_type": "code",
      "source": [
        "import tensorflow as tf\n",
        "\n",
        "model = tf.keras.Sequential([\n",
        "    tf.keras.layers.Dense(1)\n",
        "])\n",
        "\n",
        "# Compile the model with MAE loss and SGD optimizer\n",
        "model.compile(\n",
        "    loss=tf.keras.losses.mean_absolute_error,\n",
        "    optimizer=tf.keras.optimizers.SGD(learning_rate=0.01, momentum=0.9),\n",
        "    metrics=[\"mae\"]\n",
        ")\n",
        "\n",
        "# Train the model for 10 epochs with a batch size of 8\n",
        "model.fit(X_train, y_train, epochs=10, batch_size=8)"
      ],
      "metadata": {
        "colab": {
          "base_uri": "https://localhost:8080/"
        },
        "id": "s9WDK-35WpYm",
        "outputId": "50a5fa6b-c8f5-4706-e717-df61a9ffcb43"
      },
      "execution_count": null,
      "outputs": [
        {
          "output_type": "stream",
          "name": "stdout",
          "text": [
            "Epoch 1/10\n",
            "48/48 [==============================] - 1s 2ms/step - loss: 0.1245 - mae: 0.1245\n",
            "Epoch 2/10\n",
            "48/48 [==============================] - 0s 2ms/step - loss: 0.1207 - mae: 0.1207\n",
            "Epoch 3/10\n",
            "48/48 [==============================] - 0s 3ms/step - loss: 0.1194 - mae: 0.1194\n",
            "Epoch 4/10\n",
            "48/48 [==============================] - 0s 3ms/step - loss: 0.1197 - mae: 0.1197\n",
            "Epoch 5/10\n",
            "48/48 [==============================] - 0s 3ms/step - loss: 0.1182 - mae: 0.1182\n",
            "Epoch 6/10\n",
            "48/48 [==============================] - 0s 2ms/step - loss: 0.1203 - mae: 0.1203\n",
            "Epoch 7/10\n",
            "48/48 [==============================] - 0s 3ms/step - loss: 0.1178 - mae: 0.1178\n",
            "Epoch 8/10\n",
            "48/48 [==============================] - 0s 3ms/step - loss: 0.1182 - mae: 0.1182\n",
            "Epoch 9/10\n",
            "48/48 [==============================] - 0s 3ms/step - loss: 0.1207 - mae: 0.1207\n",
            "Epoch 10/10\n",
            "48/48 [==============================] - 0s 2ms/step - loss: 0.1176 - mae: 0.1176\n"
          ]
        },
        {
          "output_type": "execute_result",
          "data": {
            "text/plain": [
              "<keras.src.callbacks.History at 0x78dbdd3a9e10>"
            ]
          },
          "metadata": {},
          "execution_count": 16
        }
      ]
    },
    {
      "cell_type": "markdown",
      "source": [
        "Predict using the trained model"
      ],
      "metadata": {
        "id": "cUH3txo1XzZl"
      }
    },
    {
      "cell_type": "code",
      "source": [
        "preds = model.predict(X_test)\n",
        "mae = tf.metrics.mean_absolute_error(y_true=y_test, y_pred=preds.squeeze()).numpy()\n",
        "mse = tf.metrics.mean_squared_error(y_true=y_test, y_pred=preds.squeeze()).numpy()\n",
        "mae, mse"
      ],
      "metadata": {
        "colab": {
          "base_uri": "https://localhost:8080/"
        },
        "id": "X8VdceJfXzwU",
        "outputId": "327d3f51-bcd4-4585-b864-3837cc94e270"
      },
      "execution_count": null,
      "outputs": [
        {
          "output_type": "stream",
          "name": "stdout",
          "text": [
            "3/3 [==============================] - 0s 3ms/step\n"
          ]
        },
        {
          "output_type": "execute_result",
          "data": {
            "text/plain": [
              "(array([0.09763963, 0.095364  , 0.10211432, 0.13274443, 0.13073432,\n",
              "        0.11406241, 0.07347772, 0.07399957, 0.08633855, 0.11796924,\n",
              "        0.14080234, 0.13632293, 0.17249428, 0.18056917, 0.15701695,\n",
              "        0.14731447, 0.12361322, 0.1575263 , 0.1577182 , 0.1932049 ,\n",
              "        0.18210654, 0.18672867, 0.21061042, 0.1896475 , 0.18494605,\n",
              "        0.16672806, 0.20578054, 0.19656529, 0.17281613, 0.20806018,\n",
              "        0.21987084, 0.21932189, 0.27494138, 0.24736305, 0.22626759,\n",
              "        0.22797948, 0.20682274, 0.17210852, 0.15956764, 0.17846562,\n",
              "        0.18477964, 0.1827964 , 0.22462758, 0.21673018, 0.23188175,\n",
              "        0.19966763, 0.17881042, 0.1857493 , 0.19412069, 0.20248388,\n",
              "        0.18136032, 0.21466658, 0.21964799, 0.20473629, 0.15924335,\n",
              "        0.13727495, 0.02189833, 0.04049396, 0.0338002 , 0.05193956,\n",
              "        0.05633934, 0.05743127, 0.04572893, 0.06126382, 0.06747992,\n",
              "        0.08292879, 0.07873797, 0.07254582, 0.0693398 , 0.06595249,\n",
              "        0.07180973, 0.07222329, 0.07544653, 0.10183541, 0.15364274,\n",
              "        0.158925  , 0.18264207, 0.18667355, 0.09646175, 0.06367702,\n",
              "        0.0664887 , 0.07469323, 0.05464908, 0.04180417, 0.04847722,\n",
              "        0.04235674, 0.0700538 , 0.08284111, 0.04676225, 0.03546211,\n",
              "        0.04339515, 0.05549063, 0.03078923, 0.03761212, 0.0365863 ],\n",
              "       dtype=float32),\n",
              " array([0.0107251 , 0.01034645, 0.01174389, 0.01900664, 0.01858164,\n",
              "        0.01460601, 0.00696346, 0.00686781, 0.00861803, 0.01506363,\n",
              "        0.02099339, 0.01981649, 0.03105739, 0.03410528, 0.02633751,\n",
              "        0.02340426, 0.01696057, 0.02631444, 0.02624163, 0.0387413 ,\n",
              "        0.03475827, 0.0365805 , 0.04613933, 0.03782304, 0.03591757,\n",
              "        0.02964996, 0.04426818, 0.04068217, 0.03203404, 0.04549843,\n",
              "        0.05064769, 0.05049263, 0.07803043, 0.06390726, 0.05412408,\n",
              "        0.05499695, 0.0458214 , 0.03242148, 0.02790438, 0.03395182,\n",
              "        0.03604978, 0.03520488, 0.05210012, 0.04866802, 0.05550386,\n",
              "        0.04160729, 0.03358691, 0.03584746, 0.03888815, 0.04207573,\n",
              "        0.0339473 , 0.04704986, 0.04919344, 0.04290502, 0.02630739,\n",
              "        0.01968941, 0.00073724, 0.00211015, 0.00163838, 0.00313681,\n",
              "        0.00356946, 0.00368053, 0.00288841, 0.00409956, 0.00500616,\n",
              "        0.00890282, 0.00780656, 0.0059869 , 0.00520338, 0.00730951,\n",
              "        0.00566685, 0.0058016 , 0.00738266, 0.01572377, 0.02879573,\n",
              "        0.03016136, 0.03808286, 0.03948795, 0.01314305, 0.00471772,\n",
              "        0.00524099, 0.0069175 , 0.00360967, 0.00275461, 0.00280875,\n",
              "        0.002239  , 0.00576471, 0.0081546 , 0.00255152, 0.0017448 ,\n",
              "        0.00226756, 0.00356345, 0.00198237, 0.00302364, 0.00285313],\n",
              "       dtype=float32))"
            ]
          },
          "metadata": {},
          "execution_count": 17
        }
      ]
    },
    {
      "cell_type": "code",
      "source": [
        "# Improve our model. More epochs, added extra layers\n",
        "\n",
        "tf.random.set_seed(42)\n",
        "model_1 = tf.keras.Sequential(\n",
        "    [\n",
        "        tf.keras.layers.Dense(\n",
        "            8, activation=\"sigmoid\", input_shape=(X_train.shape[1],)\n",
        "        ),  # added extra layer\n",
        "        tf.keras.layers.Dense(4, activation=\"sigmoid\"),  # added extra layer\n",
        "        tf.keras.layers.Dense(1),\n",
        "    ]\n",
        ")\n",
        "model_1.compile(\n",
        "    loss=tf.keras.losses.mae, optimizer=tf.keras.optimizers.Adam(), metrics=[\"mae\"]\n",
        ")\n",
        "model_1.fit(X_train, y_train, epochs=100, batch_size=8, verbose=0)"
      ],
      "metadata": {
        "colab": {
          "base_uri": "https://localhost:8080/"
        },
        "id": "v_S84uXKZpMF",
        "outputId": "0d2ab595-7d88-4ef7-a8cf-03e2241c519c"
      },
      "execution_count": null,
      "outputs": [
        {
          "output_type": "execute_result",
          "data": {
            "text/plain": [
              "<keras.src.callbacks.History at 0x78dbdcd8ae90>"
            ]
          },
          "metadata": {},
          "execution_count": 27
        }
      ]
    },
    {
      "cell_type": "code",
      "source": [
        "# performance\n",
        "preds = model_1.predict(X_test)\n",
        "mae = tf.metrics.mean_absolute_error(y_true=y_test, y_pred=preds.squeeze()).numpy()\n",
        "mse = tf.metrics.mean_squared_error(y_true=y_test, y_pred=preds.squeeze()).numpy()\n",
        "mae, mse"
      ],
      "metadata": {
        "id": "ZumR6jESZtEl"
      },
      "execution_count": null,
      "outputs": []
    },
    {
      "cell_type": "markdown",
      "source": [
        "###**Illustration**"
      ],
      "metadata": {
        "id": "M9vKXlGwUivV"
      }
    },
    {
      "cell_type": "code",
      "source": [
        "# Visualize the hidden layer weights\n",
        "import numpy as np\n",
        "import matplotlib.pyplot as plt\n",
        "\n",
        "def visualize_weights(weights, annotation=True):\n",
        "  \"\"\"Visualizes the weights of a hidden layer in a heatmap.\n",
        "\n",
        "  Args:\n",
        "    weights: A 2D numpy array representing the weights of the hidden layer.\n",
        "    annotation: A boolean value indicating whether to add annotations to the heatmap.\n",
        "  \"\"\"\n",
        "\n",
        "  plt.matshow(weights)\n",
        "  plt.colorbar()\n",
        "\n",
        "  if annotation:\n",
        "    # annotations to the heatmap.\n",
        "    for i in range(weights.shape[0]):\n",
        "      for j in range(weights.shape[1]):\n",
        "        plt.annotate(str(weights[i, j]), xy=(j, i), ha='center', va='center', fontsize = 7)\n",
        "\n",
        "  plt.xlabel('Input layer neurons')\n",
        "  plt.ylabel('Hidden layer neurons')\n",
        "  plt.title('Hidden layer weights heatmap')\n",
        "  plt.show()\n"
      ],
      "metadata": {
        "id": "rTgFHWndY3G1"
      },
      "execution_count": null,
      "outputs": []
    },
    {
      "cell_type": "code",
      "source": [
        "# Get the weights of the hidden layer.\n",
        "hidden_layer_weights = model_1.layers[1].get_weights()[0]\n",
        "\n",
        "# Visualize the weights of the hidden layer with annotations.\n",
        "visualize_weights(hidden_layer_weights, annotation=True)"
      ],
      "metadata": {
        "colab": {
          "base_uri": "https://localhost:8080/",
          "height": 657
        },
        "id": "tsuBV7QwfIBt",
        "outputId": "168babcb-ed3c-4d8f-bcdd-f928c89ca8fd"
      },
      "execution_count": null,
      "outputs": [
        {
          "output_type": "display_data",
          "data": {
            "text/plain": [
              "<Figure size 400x800 with 2 Axes>"
            ],
            "image/png": "[encoded data removed]"
          },
          "metadata": {}
        }
      ]
    },
    {
      "cell_type": "code",
      "source": [
        "# Get the weights of the hidden layer.\n",
        "hidden_layer_weights = model_1.layers[2].get_weights()[0]\n",
        "\n",
        "# Visualize the weights of the hidden layer with annotations.\n",
        "visualize_weights(hidden_layer_weights, annotation=True)"
      ],
      "metadata": {
        "colab": {
          "base_uri": "https://localhost:8080/",
          "height": 1000
        },
        "id": "xyppRH1yfI0A",
        "outputId": "4d1d875e-502e-4050-8307-9aab0709aeca"
      },
      "execution_count": null,
      "outputs": [
        {
          "output_type": "display_data",
          "data": {
            "text/plain": [
              "<Figure size 400x1600 with 2 Axes>"
            ],
            "image/png": "[encoded data removed]"
          },
          "metadata": {}
        }
      ]
    },
    {
      "cell_type": "markdown",
      "source": [
        "###**Journal**\n",
        "\n",
        "Kearns, Michael S., and David E. Kirkpatrick. \"Forecasting Financial Markets Using Neural Networks.\" Machine Learning, vol. 22, no. 1-3, 1993, pp. 57-71.\n",
        "\n",
        "This journal article provides a comprehensive overview of the use of neural networks to forecast financial markets. The authors propose a novel neural network architecture and show that it outperforms other forecasting methods on a variety of financial datasets."
      ],
      "metadata": {
        "id": "_AnYFw1vT5iD"
      }
    },
    {
      "cell_type": "markdown",
      "source": [
        "# **Step 4**"
      ],
      "metadata": {
        "id": "67D5rsX1fzUN"
      }
    },
    {
      "cell_type": "markdown",
      "source": [
        "####**Technical Section**"
      ],
      "metadata": {
        "id": "wahYXnPAf1G1"
      }
    },
    {
      "cell_type": "markdown",
      "source": [
        "###**Hyperparameters Tuning**:\n",
        "#### Number of Hidden Layers\n",
        "- For simple problems, we can start with just one or two hidden layers and get the accurate results.\n",
        "- For more complex problems, we can gradually rampup the number of hidden layers, until we start overfitting the training set. Very complex  tasks,  such  as  large  image  classification  or  speech  recognition,  typically  require networks  with  dozens  of  layers  (or  even  hundreds,  but  not  fully  connected  ones),  and  they  need  a  huge  amount  of  training  data.\n",
        "\n",
        "#### Number of Neurons per Hidden Layer\n",
        "\n",
        "- We can try increasing the number of neurons gradually  until  the  network  starts  overfitting.\n",
        "- In general, it may be more advantageous to increase  the  number  of  layers  than  the  number  of  neurons  per  layer.\n",
        "- A  simpler  approach  is  to  pick  a  model  with  more  layers  and  neurons  than  we actually need, then use early stopping to prevent it from overfitting (and other regularization  techniques,  such  as  dropout, which we will discuss further in this notebook).\n",
        "\n",
        "#### Learning Rate, Batch Size, and Other Hyperparameters\n",
        "\n",
        "- The learning rate is arguably the most important hyperparameter. In general, the optimal learning rate is about half of the maximum learning rate (i.e., the learning rate above which the training algorithm diverges). So a  simple  approach  for  tuning  the  learning  rate  is  to  start  with  a  large  value  that makes  the  training  algorithm  diverge,  then  divide  this  value  by  3  and  try  again, and repeat until the training algorithm stops diverging.\n",
        "- Choosing  a  better  optimizer  than  plain  old  Mini-batch  Gradient  Descent  (and tuning its hyperparameters) is also quite important. We will discuss this in further sections.\n",
        "- The  batch  size  can  also  have  a  significant  impact  on  our  model’s  performance and the training time. In general the optimal batch size will be lower than 32. We will study batch normalization further in this notebook.\n",
        "- We discussed the choice of the activation function in previous assignment notebook, the $ReLU$ activation function will be a good default for all hidden layers. For the output layer, it really depends on our task.\n",
        "- In  most  cases,  the  number  of  training  iterations  does  not actually  need  to  be tweaked: just use early stopping instead.\n"
      ],
      "metadata": {
        "id": "Yvod9pHyiDB7"
      }
    },
    {
      "cell_type": "code",
      "source": [
        "!pip install tensorflow"
      ],
      "metadata": {
        "id": "W9dIkhjZjt9r"
      },
      "execution_count": null,
      "outputs": []
    },
    {
      "cell_type": "code",
      "source": [
        "import numpy as np\n",
        "from sklearn.model_selection import RandomizedSearchCV\n",
        "from tensorflow.keras.wrappers.scikit_learn import KerasRegressor"
      ],
      "metadata": {
        "id": "IxGIHJiJjkWN"
      },
      "execution_count": null,
      "outputs": []
    },
    {
      "cell_type": "code",
      "source": [
        "def create_model(learning_rate=0.01,  num_hidden_layers=1, num_neurons=8):\n",
        "    model = Sequential()\n",
        "\n",
        "    # Input layer\n",
        "    model.add(Dense(num_neurons, activation=\"sigmoid\", input_shape=(X_train.shape[1],)))\n",
        "\n",
        "    # Hidden layers\n",
        "    for _ in range(num_hidden_layers):\n",
        "        model.add(Dense(num_neurons, activation=\"sigmoid\"))\n",
        "\n",
        "    # Output layer\n",
        "    model.add(Dense(1))\n",
        "\n",
        "    # Compile the model with the specified hyperparameters\n",
        "    model.compile(\n",
        "        loss=tf.keras.losses.mean_absolute_error,\n",
        "        optimizer=tf.keras.optimizers.SGD(learning_rate=learning_rate),\n",
        "        metrics=[\"mae\"]\n",
        "    )\n",
        "\n",
        "    return model\n"
      ],
      "metadata": {
        "id": "PcdrcWfzinp4"
      },
      "execution_count": null,
      "outputs": []
    },
    {
      "cell_type": "code",
      "source": [
        "model = KerasRegressor(build_fn=create_model, verbose=0)"
      ],
      "metadata": {
        "colab": {
          "base_uri": "https://localhost:8080/"
        },
        "id": "Mw1M_SUdkVOc",
        "outputId": "5bd76242-da92-49b4-ee4d-9d7722cc5100"
      },
      "execution_count": null,
      "outputs": [
        {
          "output_type": "stream",
          "name": "stderr",
          "text": [
            "<ipython-input-105-8d2d8e794dbc>:1: DeprecationWarning: KerasRegressor is deprecated, use Sci-Keras (https://github.com/adriangb/scikeras) instead. See https://www.adriangb.com/scikeras/stable/migration.html for help migrating.\n",
            "  model = KerasRegressor(build_fn=create_model, verbose=0)\n"
          ]
        }
      ]
    },
    {
      "cell_type": "code",
      "source": [
        "param_dist = {\n",
        "    'learning_rate': [0.001, 0.01, 0.1],\n",
        "    'num_hidden_layers': [1, 2, 3],\n",
        "    'num_neurons': [4, 8, 16],\n",
        "    'epochs': [10, 20, 30]\n",
        "}"
      ],
      "metadata": {
        "id": "hSDBHTtaiZE9"
      },
      "execution_count": null,
      "outputs": []
    },
    {
      "cell_type": "code",
      "source": [
        "random_search = RandomizedSearchCV(\n",
        "    estimator=model,\n",
        "    param_distributions=param_dist,\n",
        "    n_iter=10,  # Number of random combinations to try\n",
        "    cv=3,  # Number of cross-validation folds\n",
        "    n_jobs=-1  # Use all available CPU cores for parallel processing\n",
        ")"
      ],
      "metadata": {
        "id": "vLLiXqiyi0vO"
      },
      "execution_count": null,
      "outputs": []
    },
    {
      "cell_type": "code",
      "source": [
        "random_search.fit(X_train, y_train)"
      ],
      "metadata": {
        "colab": {
          "base_uri": "https://localhost:8080/",
          "height": 546
        },
        "id": "PnwkvKOoicVk",
        "outputId": "502e7b9d-ccee-42b3-dcbc-d2f039a6afe7"
      },
      "execution_count": null,
      "outputs": [
        {
          "output_type": "error",
          "ename": "BrokenProcessPool",
          "evalue": "ignored",
          "traceback": [
            "\u001b[0;31m---------------------------------------------------------------------------\u001b[0m",
            "\u001b[0;31m_RemoteTraceback\u001b[0m                          Traceback (most recent call last)",
            "\u001b[0;31m_RemoteTraceback\u001b[0m: \n\"\"\"\nTraceback (most recent call last):\n  File \"/usr/local/lib/python3.10/dist-packages/joblib/externals/loky/process_executor.py\", line 426, in _process_worker\n    call_item = call_queue.get(block=True, timeout=timeout)\n  File \"/usr/lib/python3.10/multiprocessing/queues.py\", line 122, in get\n    return _ForkingPickler.loads(res)\nModuleNotFoundError: No module named 'keras.src'\n\"\"\"",
            "\nThe above exception was the direct cause of the following exception:\n",
            "\u001b[0;31mBrokenProcessPool\u001b[0m                         Traceback (most recent call last)",
            "\u001b[0;32m<ipython-input-108-30664167c996>\u001b[0m in \u001b[0;36m<cell line: 1>\u001b[0;34m()\u001b[0m\n\u001b[0;32m----> 1\u001b[0;31m \u001b[0mrandom_search\u001b[0m\u001b[0;34m.\u001b[0m\u001b[0mfit\u001b[0m\u001b[0;34m(\u001b[0m\u001b[0mX_train\u001b[0m\u001b[0;34m,\u001b[0m \u001b[0my_train\u001b[0m\u001b[0;34m)\u001b[0m\u001b[0;34m\u001b[0m\u001b[0;34m\u001b[0m\u001b[0m\n\u001b[0m",
            "\u001b[0;32m/usr/local/lib/python3.10/dist-packages/sklearn/model_selection/_search.py\u001b[0m in \u001b[0;36mfit\u001b[0;34m(self, X, y, groups, **fit_params)\u001b[0m\n\u001b[1;32m    872\u001b[0m                 \u001b[0;32mreturn\u001b[0m \u001b[0mresults\u001b[0m\u001b[0;34m\u001b[0m\u001b[0;34m\u001b[0m\u001b[0m\n\u001b[1;32m    873\u001b[0m \u001b[0;34m\u001b[0m\u001b[0m\n\u001b[0;32m--> 874\u001b[0;31m             \u001b[0mself\u001b[0m\u001b[0;34m.\u001b[0m\u001b[0m_run_search\u001b[0m\u001b[0;34m(\u001b[0m\u001b[0mevaluate_candidates\u001b[0m\u001b[0;34m)\u001b[0m\u001b[0;34m\u001b[0m\u001b[0;34m\u001b[0m\u001b[0m\n\u001b[0m\u001b[1;32m    875\u001b[0m \u001b[0;34m\u001b[0m\u001b[0m\n\u001b[1;32m    876\u001b[0m             \u001b[0;31m# multimetric is determined here because in the case of a callable\u001b[0m\u001b[0;34m\u001b[0m\u001b[0;34m\u001b[0m\u001b[0m\n",
            "\u001b[0;32m/usr/local/lib/python3.10/dist-packages/sklearn/model_selection/_search.py\u001b[0m in \u001b[0;36m_run_search\u001b[0;34m(self, evaluate_candidates)\u001b[0m\n\u001b[1;32m   1766\u001b[0m     \u001b[0;32mdef\u001b[0m \u001b[0m_run_search\u001b[0m\u001b[0;34m(\u001b[0m\u001b[0mself\u001b[0m\u001b[0;34m,\u001b[0m \u001b[0mevaluate_candidates\u001b[0m\u001b[0;34m)\u001b[0m\u001b[0;34m:\u001b[0m\u001b[0;34m\u001b[0m\u001b[0;34m\u001b[0m\u001b[0m\n\u001b[1;32m   1767\u001b[0m         \u001b[0;34m\"\"\"Search n_iter candidates from param_distributions\"\"\"\u001b[0m\u001b[0;34m\u001b[0m\u001b[0;34m\u001b[0m\u001b[0m\n\u001b[0;32m-> 1768\u001b[0;31m         evaluate_candidates(\n\u001b[0m\u001b[1;32m   1769\u001b[0m             ParameterSampler(\n\u001b[1;32m   1770\u001b[0m                 \u001b[0mself\u001b[0m\u001b[0;34m.\u001b[0m\u001b[0mparam_distributions\u001b[0m\u001b[0;34m,\u001b[0m \u001b[0mself\u001b[0m\u001b[0;34m.\u001b[0m\u001b[0mn_iter\u001b[0m\u001b[0;34m,\u001b[0m \u001b[0mrandom_state\u001b[0m\u001b[0;34m=\u001b[0m\u001b[0mself\u001b[0m\u001b[0;34m.\u001b[0m\u001b[0mrandom_state\u001b[0m\u001b[0;34m\u001b[0m\u001b[0;34m\u001b[0m\u001b[0m\n",
            "\u001b[0;32m/usr/local/lib/python3.10/dist-packages/sklearn/model_selection/_search.py\u001b[0m in \u001b[0;36mevaluate_candidates\u001b[0;34m(candidate_params, cv, more_results)\u001b[0m\n\u001b[1;32m    819\u001b[0m                     )\n\u001b[1;32m    820\u001b[0m \u001b[0;34m\u001b[0m\u001b[0m\n\u001b[0;32m--> 821\u001b[0;31m                 out = parallel(\n\u001b[0m\u001b[1;32m    822\u001b[0m                     delayed(_fit_and_score)(\n\u001b[1;32m    823\u001b[0m                         \u001b[0mclone\u001b[0m\u001b[0;34m(\u001b[0m\u001b[0mbase_estimator\u001b[0m\u001b[0;34m)\u001b[0m\u001b[0;34m,\u001b[0m\u001b[0;34m\u001b[0m\u001b[0;34m\u001b[0m\u001b[0m\n",
            "\u001b[0;32m/usr/local/lib/python3.10/dist-packages/sklearn/utils/parallel.py\u001b[0m in \u001b[0;36m__call__\u001b[0;34m(self, iterable)\u001b[0m\n\u001b[1;32m     61\u001b[0m             \u001b[0;32mfor\u001b[0m \u001b[0mdelayed_func\u001b[0m\u001b[0;34m,\u001b[0m \u001b[0margs\u001b[0m\u001b[0;34m,\u001b[0m \u001b[0mkwargs\u001b[0m \u001b[0;32min\u001b[0m \u001b[0miterable\u001b[0m\u001b[0;34m\u001b[0m\u001b[0;34m\u001b[0m\u001b[0m\n\u001b[1;32m     62\u001b[0m         )\n\u001b[0;32m---> 63\u001b[0;31m         \u001b[0;32mreturn\u001b[0m \u001b[0msuper\u001b[0m\u001b[0;34m(\u001b[0m\u001b[0;34m)\u001b[0m\u001b[0;34m.\u001b[0m\u001b[0m__call__\u001b[0m\u001b[0;34m(\u001b[0m\u001b[0miterable_with_config\u001b[0m\u001b[0;34m)\u001b[0m\u001b[0;34m\u001b[0m\u001b[0;34m\u001b[0m\u001b[0m\n\u001b[0m\u001b[1;32m     64\u001b[0m \u001b[0;34m\u001b[0m\u001b[0m\n\u001b[1;32m     65\u001b[0m \u001b[0;34m\u001b[0m\u001b[0m\n",
            "\u001b[0;32m/usr/local/lib/python3.10/dist-packages/joblib/parallel.py\u001b[0m in \u001b[0;36m__call__\u001b[0;34m(self, iterable)\u001b[0m\n\u001b[1;32m   1950\u001b[0m         \u001b[0mnext\u001b[0m\u001b[0;34m(\u001b[0m\u001b[0moutput\u001b[0m\u001b[0;34m)\u001b[0m\u001b[0;34m\u001b[0m\u001b[0;34m\u001b[0m\u001b[0m\n\u001b[1;32m   1951\u001b[0m \u001b[0;34m\u001b[0m\u001b[0m\n\u001b[0;32m-> 1952\u001b[0;31m         \u001b[0;32mreturn\u001b[0m \u001b[0moutput\u001b[0m \u001b[0;32mif\u001b[0m \u001b[0mself\u001b[0m\u001b[0;34m.\u001b[0m\u001b[0mreturn_generator\u001b[0m \u001b[0;32melse\u001b[0m \u001b[0mlist\u001b[0m\u001b[0;34m(\u001b[0m\u001b[0moutput\u001b[0m\u001b[0;34m)\u001b[0m\u001b[0;34m\u001b[0m\u001b[0;34m\u001b[0m\u001b[0m\n\u001b[0m\u001b[1;32m   1953\u001b[0m \u001b[0;34m\u001b[0m\u001b[0m\n\u001b[1;32m   1954\u001b[0m     \u001b[0;32mdef\u001b[0m \u001b[0m__repr__\u001b[0m\u001b[0;34m(\u001b[0m\u001b[0mself\u001b[0m\u001b[0;34m)\u001b[0m\u001b[0;34m:\u001b[0m\u001b[0;34m\u001b[0m\u001b[0;34m\u001b[0m\u001b[0m\n",
            "\u001b[0;32m/usr/local/lib/python3.10/dist-packages/joblib/parallel.py\u001b[0m in \u001b[0;36m_get_outputs\u001b[0;34m(self, iterator, pre_dispatch)\u001b[0m\n\u001b[1;32m   1593\u001b[0m \u001b[0;34m\u001b[0m\u001b[0m\n\u001b[1;32m   1594\u001b[0m             \u001b[0;32mwith\u001b[0m \u001b[0mself\u001b[0m\u001b[0;34m.\u001b[0m\u001b[0m_backend\u001b[0m\u001b[0;34m.\u001b[0m\u001b[0mretrieval_context\u001b[0m\u001b[0;34m(\u001b[0m\u001b[0;34m)\u001b[0m\u001b[0;34m:\u001b[0m\u001b[0;34m\u001b[0m\u001b[0;34m\u001b[0m\u001b[0m\n\u001b[0;32m-> 1595\u001b[0;31m                 \u001b[0;32myield\u001b[0m \u001b[0;32mfrom\u001b[0m \u001b[0mself\u001b[0m\u001b[0;34m.\u001b[0m\u001b[0m_retrieve\u001b[0m\u001b[0;34m(\u001b[0m\u001b[0;34m)\u001b[0m\u001b[0;34m\u001b[0m\u001b[0;34m\u001b[0m\u001b[0m\n\u001b[0m\u001b[1;32m   1596\u001b[0m \u001b[0;34m\u001b[0m\u001b[0m\n\u001b[1;32m   1597\u001b[0m         \u001b[0;32mexcept\u001b[0m \u001b[0mGeneratorExit\u001b[0m\u001b[0;34m:\u001b[0m\u001b[0;34m\u001b[0m\u001b[0;34m\u001b[0m\u001b[0m\n",
            "\u001b[0;32m/usr/local/lib/python3.10/dist-packages/joblib/parallel.py\u001b[0m in \u001b[0;36m_retrieve\u001b[0;34m(self)\u001b[0m\n\u001b[1;32m   1697\u001b[0m             \u001b[0;31m# worker traceback.\u001b[0m\u001b[0;34m\u001b[0m\u001b[0;34m\u001b[0m\u001b[0m\n\u001b[1;32m   1698\u001b[0m             \u001b[0;32mif\u001b[0m \u001b[0mself\u001b[0m\u001b[0;34m.\u001b[0m\u001b[0m_aborting\u001b[0m\u001b[0;34m:\u001b[0m\u001b[0;34m\u001b[0m\u001b[0;34m\u001b[0m\u001b[0m\n\u001b[0;32m-> 1699\u001b[0;31m                 \u001b[0mself\u001b[0m\u001b[0;34m.\u001b[0m\u001b[0m_raise_error_fast\u001b[0m\u001b[0;34m(\u001b[0m\u001b[0;34m)\u001b[0m\u001b[0;34m\u001b[0m\u001b[0;34m\u001b[0m\u001b[0m\n\u001b[0m\u001b[1;32m   1700\u001b[0m                 \u001b[0;32mbreak\u001b[0m\u001b[0;34m\u001b[0m\u001b[0;34m\u001b[0m\u001b[0m\n\u001b[1;32m   1701\u001b[0m \u001b[0;34m\u001b[0m\u001b[0m\n",
            "\u001b[0;32m/usr/local/lib/python3.10/dist-packages/joblib/parallel.py\u001b[0m in \u001b[0;36m_raise_error_fast\u001b[0;34m(self)\u001b[0m\n\u001b[1;32m   1732\u001b[0m         \u001b[0;31m# called directly or if the generator is gc'ed.\u001b[0m\u001b[0;34m\u001b[0m\u001b[0;34m\u001b[0m\u001b[0m\n\u001b[1;32m   1733\u001b[0m         \u001b[0;32mif\u001b[0m \u001b[0merror_job\u001b[0m \u001b[0;32mis\u001b[0m \u001b[0;32mnot\u001b[0m \u001b[0;32mNone\u001b[0m\u001b[0;34m:\u001b[0m\u001b[0;34m\u001b[0m\u001b[0;34m\u001b[0m\u001b[0m\n\u001b[0;32m-> 1734\u001b[0;31m             \u001b[0merror_job\u001b[0m\u001b[0;34m.\u001b[0m\u001b[0mget_result\u001b[0m\u001b[0;34m(\u001b[0m\u001b[0mself\u001b[0m\u001b[0;34m.\u001b[0m\u001b[0mtimeout\u001b[0m\u001b[0;34m)\u001b[0m\u001b[0;34m\u001b[0m\u001b[0;34m\u001b[0m\u001b[0m\n\u001b[0m\u001b[1;32m   1735\u001b[0m \u001b[0;34m\u001b[0m\u001b[0m\n\u001b[1;32m   1736\u001b[0m     \u001b[0;32mdef\u001b[0m \u001b[0m_warn_exit_early\u001b[0m\u001b[0;34m(\u001b[0m\u001b[0mself\u001b[0m\u001b[0;34m)\u001b[0m\u001b[0;34m:\u001b[0m\u001b[0;34m\u001b[0m\u001b[0;34m\u001b[0m\u001b[0m\n",
            "\u001b[0;32m/usr/local/lib/python3.10/dist-packages/joblib/parallel.py\u001b[0m in \u001b[0;36mget_result\u001b[0;34m(self, timeout)\u001b[0m\n\u001b[1;32m    734\u001b[0m             \u001b[0;31m# callback thread, and is stored internally. It's just waiting to\u001b[0m\u001b[0;34m\u001b[0m\u001b[0;34m\u001b[0m\u001b[0m\n\u001b[1;32m    735\u001b[0m             \u001b[0;31m# be returned.\u001b[0m\u001b[0;34m\u001b[0m\u001b[0;34m\u001b[0m\u001b[0m\n\u001b[0;32m--> 736\u001b[0;31m             \u001b[0;32mreturn\u001b[0m \u001b[0mself\u001b[0m\u001b[0;34m.\u001b[0m\u001b[0m_return_or_raise\u001b[0m\u001b[0;34m(\u001b[0m\u001b[0;34m)\u001b[0m\u001b[0;34m\u001b[0m\u001b[0;34m\u001b[0m\u001b[0m\n\u001b[0m\u001b[1;32m    737\u001b[0m \u001b[0;34m\u001b[0m\u001b[0m\n\u001b[1;32m    738\u001b[0m         \u001b[0;31m# For other backends, the main thread needs to run the retrieval step.\u001b[0m\u001b[0;34m\u001b[0m\u001b[0;34m\u001b[0m\u001b[0m\n",
            "\u001b[0;32m/usr/local/lib/python3.10/dist-packages/joblib/parallel.py\u001b[0m in \u001b[0;36m_return_or_raise\u001b[0;34m(self)\u001b[0m\n\u001b[1;32m    752\u001b[0m         \u001b[0;32mtry\u001b[0m\u001b[0;34m:\u001b[0m\u001b[0;34m\u001b[0m\u001b[0;34m\u001b[0m\u001b[0m\n\u001b[1;32m    753\u001b[0m             \u001b[0;32mif\u001b[0m \u001b[0mself\u001b[0m\u001b[0;34m.\u001b[0m\u001b[0mstatus\u001b[0m \u001b[0;34m==\u001b[0m \u001b[0mTASK_ERROR\u001b[0m\u001b[0;34m:\u001b[0m\u001b[0;34m\u001b[0m\u001b[0;34m\u001b[0m\u001b[0m\n\u001b[0;32m--> 754\u001b[0;31m                 \u001b[0;32mraise\u001b[0m \u001b[0mself\u001b[0m\u001b[0;34m.\u001b[0m\u001b[0m_result\u001b[0m\u001b[0;34m\u001b[0m\u001b[0;34m\u001b[0m\u001b[0m\n\u001b[0m\u001b[1;32m    755\u001b[0m             \u001b[0;32mreturn\u001b[0m \u001b[0mself\u001b[0m\u001b[0;34m.\u001b[0m\u001b[0m_result\u001b[0m\u001b[0;34m\u001b[0m\u001b[0;34m\u001b[0m\u001b[0m\n\u001b[1;32m    756\u001b[0m         \u001b[0;32mfinally\u001b[0m\u001b[0;34m:\u001b[0m\u001b[0;34m\u001b[0m\u001b[0;34m\u001b[0m\u001b[0m\n",
            "\u001b[0;31mBrokenProcessPool\u001b[0m: A task has failed to un-serialize. Please ensure that the arguments of the function are all picklable."
          ]
        }
      ]
    },
    {
      "cell_type": "code",
      "source": [
        "print(\"Best Parameters:\")\n",
        "print(random_search.best_params_)\n",
        "print(\"Best Score (MAE):\", -random_search.best_score_)"
      ],
      "metadata": {
        "id": "Bw0WBAP6knMM"
      },
      "execution_count": null,
      "outputs": []
    },
    {
      "cell_type": "code",
      "metadata": {
        "id": "QeOHn8WVdqOC"
      },
      "source": [
        "# best score\n",
        "rnd_search_cv.best_score_"
      ],
      "execution_count": null,
      "outputs": []
    },
    {
      "cell_type": "code",
      "metadata": {
        "id": "JNY1vgDAdqOD"
      },
      "source": [
        "# applying best parameters to the model for predictions\n",
        "model = rnd_search_cv.best_estimator_.model"
      ],
      "execution_count": null,
      "outputs": []
    },
    {
      "cell_type": "code",
      "source": [
        "!pip install keras-tuner --upgrade"
      ],
      "metadata": {
        "colab": {
          "base_uri": "https://localhost:8080/"
        },
        "id": "JCYoobm0ma92",
        "outputId": "33157301-d4b8-4a73-fce1-34a8b2416499"
      },
      "execution_count": null,
      "outputs": [
        {
          "output_type": "stream",
          "name": "stdout",
          "text": [
            "Installing collected packages: namex, kt-legacy, keras-core, keras-tuner\n",
            "Successfully installed keras-core-0.1.7 keras-tuner-1.4.2 kt-legacy-1.0.5 namex-0.0.7\n"
          ]
        }
      ]
    },
    {
      "cell_type": "code",
      "source": [
        "import tensorflow as tf\n",
        "from tensorflow.keras.models import Sequential\n",
        "from tensorflow.keras.layers import Dense\n",
        "from sklearn.model_selection import RandomizedSearchCV\n",
        "\n",
        "# Define the hyperparameter search space\n",
        "param_dist = {\n",
        "    'learning_rate': [0.001, 0.005, 0.01],\n",
        "    'num_epochs': [10, 20, 30, 40, 50],\n",
        "    'batch_size': [32, 64, 128]\n",
        "}\n",
        "\n",
        "# Create the model\n",
        "model = Sequential([\n",
        "  Dense(8, activation=\"sigmoid\", input_shape=(X_train.shape[1],)),\n",
        "  Dense(4, activation=\"sigmoid\"),\n",
        "  Dense(1),\n",
        "])\n",
        "\n",
        "# Create the randomized search CV object\n",
        "random_search_cv = RandomizedSearchCV(\n",
        "    model,\n",
        "    param_dist,\n",
        "    n_iter=100,\n",
        "    scoring='neg_mean_absolute_error',\n",
        "    cv=5\n",
        ")\n",
        "\n",
        "# Fit the randomized search CV object\n",
        "random_search_cv.fit(X_train, y_train)\n",
        "\n",
        "# Get the best hyperparameters\n",
        "best_params = random_search_cv.best_params_\n",
        "\n",
        "# Train the model with the best hyperparameters\n",
        "model.fit(X_train, y_train, epochs=best_params['num_epochs'], batch_size=best_params['batch_size'])\n"
      ],
      "metadata": {
        "colab": {
          "base_uri": "https://localhost:8080/",
          "height": 245
        },
        "id": "l2opujWBmVgd",
        "outputId": "5954c9bf-3332-4136-9ffd-fef46b3d20e5"
      },
      "execution_count": null,
      "outputs": [
        {
          "output_type": "error",
          "ename": "NameError",
          "evalue": "ignored",
          "traceback": [
            "\u001b[0;31m---------------------------------------------------------------------------\u001b[0m",
            "\u001b[0;31mNameError\u001b[0m                                 Traceback (most recent call last)",
            "\u001b[0;32m<ipython-input-1-16b2a95b6b58>\u001b[0m in \u001b[0;36m<cell line: 14>\u001b[0;34m()\u001b[0m\n\u001b[1;32m     13\u001b[0m \u001b[0;31m# Create the model\u001b[0m\u001b[0;34m\u001b[0m\u001b[0;34m\u001b[0m\u001b[0m\n\u001b[1;32m     14\u001b[0m model = Sequential([\n\u001b[0;32m---> 15\u001b[0;31m   \u001b[0mDense\u001b[0m\u001b[0;34m(\u001b[0m\u001b[0;36m8\u001b[0m\u001b[0;34m,\u001b[0m \u001b[0mactivation\u001b[0m\u001b[0;34m=\u001b[0m\u001b[0;34m\"sigmoid\"\u001b[0m\u001b[0;34m,\u001b[0m \u001b[0minput_shape\u001b[0m\u001b[0;34m=\u001b[0m\u001b[0;34m(\u001b[0m\u001b[0mX_train\u001b[0m\u001b[0;34m.\u001b[0m\u001b[0mshape\u001b[0m\u001b[0;34m[\u001b[0m\u001b[0;36m1\u001b[0m\u001b[0;34m]\u001b[0m\u001b[0;34m,\u001b[0m\u001b[0;34m)\u001b[0m\u001b[0;34m)\u001b[0m\u001b[0;34m,\u001b[0m\u001b[0;34m\u001b[0m\u001b[0;34m\u001b[0m\u001b[0m\n\u001b[0m\u001b[1;32m     16\u001b[0m   \u001b[0mDense\u001b[0m\u001b[0;34m(\u001b[0m\u001b[0;36m4\u001b[0m\u001b[0;34m,\u001b[0m \u001b[0mactivation\u001b[0m\u001b[0;34m=\u001b[0m\u001b[0;34m\"sigmoid\"\u001b[0m\u001b[0;34m)\u001b[0m\u001b[0;34m,\u001b[0m\u001b[0;34m\u001b[0m\u001b[0;34m\u001b[0m\u001b[0m\n\u001b[1;32m     17\u001b[0m   \u001b[0mDense\u001b[0m\u001b[0;34m(\u001b[0m\u001b[0;36m1\u001b[0m\u001b[0;34m)\u001b[0m\u001b[0;34m,\u001b[0m\u001b[0;34m\u001b[0m\u001b[0;34m\u001b[0m\u001b[0m\n",
            "\u001b[0;31mNameError\u001b[0m: name 'X_train' is not defined"
          ]
        }
      ]
    },
    {
      "cell_type": "markdown",
      "source": [
        "# **Step 5**"
      ],
      "metadata": {
        "id": "Q39Zgeaof6ny"
      }
    },
    {
      "cell_type": "markdown",
      "source": [
        "###**Marketing Alpha**"
      ],
      "metadata": {
        "id": "WvOfrhEYf7Mz"
      }
    },
    {
      "cell_type": "markdown",
      "source": [
        "# **Step 6**"
      ],
      "metadata": {
        "id": "QXsDQRZRf7zY"
      }
    },
    {
      "cell_type": "markdown",
      "source": [
        "### **Learn More**"
      ],
      "metadata": {
        "id": "M2xXAe9YgPbe"
      }
    },
    {
      "cell_type": "markdown",
      "source": [
        "# **Step 7**"
      ],
      "metadata": {
        "id": "P60MA8VggWs0"
      }
    },
    {
      "cell_type": "markdown",
      "source": [
        "###**Comparing Models**"
      ],
      "metadata": {
        "id": "hMlZeOlrgWqh"
      }
    }
  ]
}